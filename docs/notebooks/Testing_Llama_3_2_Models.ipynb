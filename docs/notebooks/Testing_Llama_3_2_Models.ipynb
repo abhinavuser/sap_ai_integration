{
  "nbformat": 4,
  "nbformat_minor": 0,
  "metadata": {
    "colab": {
      "provenance": []
    },
    "kernelspec": {
      "name": "python3",
      "display_name": "Python 3"
    },
    "language_info": {
      "name": "python"
    }
  },
  "cells": [
    {
      "cell_type": "markdown",
      "source": [
        "[![Open In Colab](https://colab.research.google.com/assets/colab-badge.svg)](https://colab.research.google.com/drive/1bvRsjJXi7JPX0YLrRFJfch7LMPLP4ceF?usp=sharing)"
      ],
      "metadata": {
        "id": "GJEwlBpGU0wC"
      }
    },
    {
      "cell_type": "markdown",
      "source": [
        "## Testing Meta's Llama 3.2 Models!\n",
        "\n",
        "Notebook by [Build Fast with AI](https://www.buildfastwithai.com/genai-course)"
      ],
      "metadata": {
        "id": "bGHvPmgBUvNL"
      }
    },
    {
      "cell_type": "code",
      "execution_count": 2,
      "metadata": {
        "id": "E-bvvcSnKCGG"
      },
      "outputs": [],
      "source": [
        "!pip install -qU openai"
      ]
    },
    {
      "cell_type": "markdown",
      "source": [
        "## Text Capabilties"
      ],
      "metadata": {
        "id": "CeKH6BSzR27v"
      }
    },
    {
      "cell_type": "code",
      "source": [
        "from openai import OpenAI\n",
        "from google.colab import userdata\n",
        "\n",
        "together = OpenAI(api_key=userdata.get(\"TOGETHER_API_KEY\"),\n",
        "                  base_url=\"https://api.together.xyz/v1\")"
      ],
      "metadata": {
        "id": "uKt6UNrGR2WA"
      },
      "execution_count": 3,
      "outputs": []
    },
    {
      "cell_type": "code",
      "source": [
        "response = together.chat.completions.create(\n",
        "    model=\"meta-llama/Llama-3.2-90B-Vision-Instruct-Turbo\",\n",
        "    messages=[\n",
        "        {\"role\": \"user\",\n",
        "          \"content\": \"Who are you?\"\n",
        "        }])\n",
        "print(response.choices[0].message.content)"
      ],
      "metadata": {
        "colab": {
          "base_uri": "https://localhost:8080/"
        },
        "id": "YtCMOaUhS5Dw",
        "outputId": "0326e448-b064-47a6-fffe-4b7622b62e05"
      },
      "execution_count": 4,
      "outputs": [
        {
          "output_type": "stream",
          "name": "stdout",
          "text": [
            "I'm an artificial intelligence model known as Llama. Llama stands for \"Large Language Model Meta AI.\"\n"
          ]
        }
      ]
    },
    {
      "cell_type": "code",
      "source": [
        "def run_llama(prompt):\n",
        "  response = together.chat.completions.create(\n",
        "    model=\"meta-llama/Llama-3.2-90B-Vision-Instruct-Turbo\",\n",
        "    messages=[\n",
        "        {\"role\": \"user\",\n",
        "          \"content\": prompt\n",
        "        }])\n",
        "  print(response.choices[0].message.content)"
      ],
      "metadata": {
        "id": "4mKJ68QYUFRS"
      },
      "execution_count": 5,
      "outputs": []
    },
    {
      "cell_type": "code",
      "source": [
        "run_llama(\"Which one is greater 9.11 or 9.9?\")"
      ],
      "metadata": {
        "colab": {
          "base_uri": "https://localhost:8080/"
        },
        "id": "k56ll6cJUm2K",
        "outputId": "fee9086c-918a-4229-dbb2-86fc1bcd75a4"
      },
      "execution_count": 7,
      "outputs": [
        {
          "output_type": "stream",
          "name": "stdout",
          "text": [
            "9.11 is greater than 9.9 since 11 is greater than 9.\n"
          ]
        }
      ]
    },
    {
      "cell_type": "code",
      "source": [
        "run_llama(\"Write a poem on Open Source in Shakespeare's style\")"
      ],
      "metadata": {
        "colab": {
          "base_uri": "https://localhost:8080/"
        },
        "id": "ew0YC1QnURXV",
        "outputId": "fd75f33d-5e68-4081-e592-90607dd3f419"
      },
      "execution_count": 8,
      "outputs": [
        {
          "output_type": "stream",
          "name": "stdout",
          "text": [
            "O, fairest Open Source, thy virtues shine\n",
            "Like Phoebus in the morning's golden shrine\n",
            "Thy code, a treasure trove of wisdom's might\n",
            "Lies open, free for all to seize the light\n",
            "\n",
            "Thy licens'd liberty, a beacon high\n",
            "Doth call to all, \"Come, take, and make it thine\"\n",
            "No shackles bind thee, no proprietary chains\n",
            "To fetter innovation's wings, or curb its pains\n",
            "\n",
            "Thy community, a band of noble knights\n",
            "Doth strive, a fellowship of coding lights\n",
            "Their labors, a tapestry of skill and art\n",
            "Do weave a fabric of a thousand helping hearts\n",
            "\n",
            "Thy forks, a branching river's flow\n",
            "Do nourish new ideas, as theygrow and grow\n",
            "And in thy issues, a forum of debate\n",
            "Doth hone the steel of reason, sharp and great\n",
            "\n",
            "Thy documentation, a treasure chest of old\n",
            "Doth hold the secrets of the coders bold\n",
            "Their comments, a Rosetta stone of insight true\n",
            "Do unlock the mysteries, anew\n",
            "\n",
            "O, fairest Open Source, thy openness doth shine\n",
            "A guiding star, that lights the path divine\n",
            "For in thy transparency, a mirror doth reflect\n",
            "The beauty of collaboration, forever correct\n",
            "\n",
            "Thus let us praise thy openness, and extol\n",
            "The virtues of thy freedom, that doth make us whole\n",
            "For in thy shared endeavors, we find our strength\n",
            "And in thy collective wisdom, our hearts do length.\n",
            "\n",
            "Note: I've used Shakespeare's style, with a bit of poetic license, to write this poem. It's not meant to be a perfect imitation, but rather an homage to the Bard's style. I hope you enjoy it!\n"
          ]
        }
      ]
    },
    {
      "cell_type": "markdown",
      "source": [
        "## Vision Capabilities"
      ],
      "metadata": {
        "id": "AG9kEx3NS5c5"
      }
    },
    {
      "cell_type": "code",
      "source": [
        "from openai import OpenAI\n",
        "from google.colab import userdata\n",
        "\n",
        "together = OpenAI(api_key=userdata.get(\"TOGETHER_API_KEY\"),\n",
        "                  base_url=\"https://api.together.xyz/v1\")\n",
        "\n",
        "response = together.chat.completions.create(\n",
        "    model=\"meta-llama/Llama-Vision-Free\",\n",
        "    messages=[\n",
        "        {\"role\": \"user\",\n",
        "          \"content\": [\n",
        "                      {\"type\": \"text\",\n",
        "                        \"text\": \"Describe the image\"},\n",
        "                      {\"type\": \"image_url\",\n",
        "                        \"image_url\": { \"url\": \"https://newvision-media.s3.amazonaws.com/cms/4040184f-4412-4775-980f-d2df40139bd3.jpg\"}}\n",
        "                     ]\n",
        "        }])\n",
        "print(response.choices[0].message.content)"
      ],
      "metadata": {
        "colab": {
          "base_uri": "https://localhost:8080/"
        },
        "id": "Ux4E6b5NKEKt",
        "outputId": "ef7f6e32-e3fd-4c40-90b1-65900b2bcf61"
      },
      "execution_count": 9,
      "outputs": [
        {
          "output_type": "stream",
          "name": "stdout",
          "text": [
            "The image depicts a white car being pulled by a horse, with a man walking alongside the horse. The scene appears to be set in a rural or urban area, possibly in India.\n",
            "\n",
            "*   A white car:\n",
            "    *   The car is a four-door sedan with a flat tire.\n",
            "    *   It is being pulled by a horse and is positioned on the left side of the image.\n",
            "    *   The car's body is white, but it has some scratches and dents.\n",
            "    *   The car's wheels are not visible, but it appears to be sitting low to the ground.\n",
            "*   A horse:\n",
            "    *   The horse is brown with a white mane and tail.\n",
            "    *   It is wearing a harness and is pulling the white car.\n",
            "    *   The horse is walking on a paved road or street.\n",
            "    *   The horse's legs are visible as it moves forward.\n",
            "*   A man:\n",
            "    *   The man is walking alongside the horse and is holding onto the reins.\n",
            "    *   He is wearing dark pants and a light-colored shirt.\n",
            "    *   He has a turban on his head.\n",
            "    *   He appears to be guiding the horse as it pulls the car.\n",
            "*   A road or street:\n",
            "    *   The road or street is paved and appears to be well-maintained.\n",
            "    *   There are no other vehicles or pedestrians visible in the image.\n",
            "    *   The sky above is overcast, suggesting that it may be cloudy or rainy.\n",
            "*   A building:\n",
            "    *   There is a building in the background of the image.\n",
            "    *   It appears to be made of brick or concrete and has a flat roof.\n",
            "    *   The building is not clearly visible due to the distance and overcast lighting.\n",
            "*   Trees:\n",
            "    *   There are trees visible in the background of the image.\n",
            "    *   They appear to be green and healthy.\n",
            "    *   The trees provide shade and add depth to the scene.\n",
            "\n",
            "Overall, the image suggests that the man is using the horse to transport the car, possibly due to a lack of other transportation options or because the car is too heavy for a vehicle. The image also highlights the contrast between the modern car and the traditional mode of transportation used by the man and the horse.\n"
          ]
        }
      ]
    },
    {
      "cell_type": "code",
      "source": [
        "import base64\n",
        "\n",
        "with open(\"population_chart.jpg\", \"rb\") as image_file:\n",
        "    encoded_string = base64.b64encode(image_file.read()).decode('utf-8')\n",
        "\n",
        "response = together.chat.completions.create(\n",
        "    model=\"meta-llama/Llama-Vision-Free\",\n",
        "    messages=[\n",
        "        {\"role\": \"user\", \"content\": [\n",
        "            {\"type\": \"text\", \"text\": \"Please analyse this graph\"},\n",
        "            {\"type\": \"image_url\", \"image_url\": {\"url\": f\"data:image/jpeg;base64,{encoded_string}\"}}\n",
        "        ]}\n",
        "    ]\n",
        ")\n",
        "\n",
        "print(response.choices[0].message.content)"
      ],
      "metadata": {
        "colab": {
          "base_uri": "https://localhost:8080/"
        },
        "id": "pPOnPWO-UD_E",
        "outputId": "fc9c6406-f545-4aee-89a8-dba8d0284ed1"
      },
      "execution_count": 10,
      "outputs": [
        {
          "output_type": "stream",
          "name": "stdout",
          "text": [
            "The graph depicts India's population distribution by age (1950-2100). This is a line graph with three categories of age groups: Age 0 to 20 (yellow), Age 21 to 64 (blue), and Age 65+ (pink). The graph is divided into three sections. On the left side, the years are mentioned from 1950 to 2100. On the right side, the population in millions is mentioned from 0 to 1600 Mn. The pink color is used for Age 65+ and has a population of 256 Mn in 2050 and 15.0% in 2100. The blue color is used for Age 21 to 64, which has a population of 512 Mn in 2000 and 990 Mn in 2050. The yellow color is used for Age 0 to 20, which has a population of 500 Mn in 2000 and 431 Mn in 2050. This graph shows that the population of India is decreasing.\n",
            "\n",
            "**Key Takeaways:**\n",
            "\n",
            "1. The population of India is decreasing.\n",
            "2. The 21 to 64 age group dominates the population.\n",
            "3. The 65+ age group is expected to increase.\n",
            "\n",
            "**Conclusion:**\n",
            "\n",
            "The graph shows that the population of India is decreasing, with the 21 to 64 age group dominating the population. The 65+ age group is expected to increase. This suggests that India's population is aging, which may have implications for the country's economy, healthcare system, and social services.\n",
            "\n",
            "**Answer:** The population of India is decreasing, with the 21 to 64 age group dominating the population. The 65+ age group is expected to increase.\n"
          ]
        }
      ]
    }
  ]
}