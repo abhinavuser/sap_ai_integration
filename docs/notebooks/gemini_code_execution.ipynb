{
  "nbformat": 4,
  "nbformat_minor": 0,
  "metadata": {
    "colab": {
      "provenance": []
    },
    "kernelspec": {
      "name": "python3",
      "display_name": "Python 3"
    },
    "language_info": {
      "name": "python"
    }
  },
  "cells": [
    {
      "cell_type": "markdown",
      "source": [
        "[![Open In Colab](https://colab.research.google.com/assets/colab-badge.svg)](https://colab.research.google.com/drive/1OHTXRQmEwi6QLHmzPUhfsBWBdEAY7Qvz?usp=sharing)"
      ],
      "metadata": {
        "id": "KJSqi3zR-fe-"
      }
    },
    {
      "cell_type": "markdown",
      "source": [
        "## Code Execution with Gemini API"
      ],
      "metadata": {
        "id": "srEwAsA-3sNu"
      }
    },
    {
      "cell_type": "markdown",
      "source": [
        "Notebook by [Build Fast with AI](https://www.buildfastwithai.com/)"
      ],
      "metadata": {
        "id": "STOneHxT9aQR"
      }
    },
    {
      "cell_type": "code",
      "execution_count": 2,
      "metadata": {
        "id": "aTtWSTocNBjW",
        "colab": {
          "base_uri": "https://localhost:8080/"
        },
        "outputId": "0c64969e-ffaf-41e7-d771-521203e06f00"
      },
      "outputs": [
        {
          "output_type": "stream",
          "name": "stdout",
          "text": [
            "\u001b[2K     \u001b[90m━━━━━━━━━━━━━━━━━━━━━━━━━━━━━━━━━━━━━━━━\u001b[0m \u001b[32m163.9/163.9 kB\u001b[0m \u001b[31m2.1 MB/s\u001b[0m eta \u001b[36m0:00:00\u001b[0m\n",
            "\u001b[2K     \u001b[90m━━━━━━━━━━━━━━━━━━━━━━━━━━━━━━━━━━━━━━━━\u001b[0m \u001b[32m718.3/718.3 kB\u001b[0m \u001b[31m10.7 MB/s\u001b[0m eta \u001b[36m0:00:00\u001b[0m\n",
            "\u001b[?25h"
          ]
        }
      ],
      "source": [
        "!pip install -qU google-generativeai"
      ]
    },
    {
      "cell_type": "code",
      "source": [
        "import google.generativeai as genai\n",
        "from google.colab import userdata\n",
        "\n",
        "genai.configure(api_key=userdata.get('GOOGLE_API_KEY'))"
      ],
      "metadata": {
        "id": "2cGfA5AcPyRS"
      },
      "execution_count": 3,
      "outputs": []
    },
    {
      "cell_type": "markdown",
      "source": [
        "Gemini without code-execution"
      ],
      "metadata": {
        "id": "Jp-ju2c23ln1"
      }
    },
    {
      "cell_type": "code",
      "source": [
        "model = genai.GenerativeModel(model_name='gemini-1.5-flash')"
      ],
      "metadata": {
        "id": "Mvyekc3WP8WL"
      },
      "execution_count": 10,
      "outputs": []
    },
    {
      "cell_type": "code",
      "source": [
        "result = model.generate_content(\"Simulate a dice throw a 1000 times and tell me how many times you got 2.\")\n",
        "\n",
        "print(result.text)"
      ],
      "metadata": {
        "id": "IgluDv-OQEby",
        "colab": {
          "base_uri": "https://localhost:8080/",
          "height": 410
        },
        "outputId": "96e60937-4c5f-446e-d420-33433b3ef1c2"
      },
      "execution_count": 15,
      "outputs": [
        {
          "output_type": "stream",
          "name": "stdout",
          "text": [
            "I don't have the ability to physically throw dice or simulate random events. However, I can use code to simulate this process:\n",
            "\n",
            "```python\n",
            "import random\n",
            "\n",
            "count_twos = 0\n",
            "for i in range(1000):\n",
            "  roll = random.randint(1, 6)\n",
            "  if roll == 2:\n",
            "    count_twos += 1\n",
            "\n",
            "print(f\"You got a 2 {count_twos} times out of 1000 rolls.\")\n",
            "```\n",
            "\n",
            "This code will generate a random number between 1 and 6, 1000 times, and count how many times the number 2 is rolled. The output will be something like:\n",
            "\n",
            "```\n",
            "You got a 2 164 times out of 1000 rolls.\n",
            "```\n",
            "\n",
            "Of course, the exact number of times you get a 2 will vary each time you run the code, as it's based on random chance. \n",
            "\n"
          ]
        }
      ]
    },
    {
      "cell_type": "markdown",
      "source": [
        "Gemini with code-execution tool"
      ],
      "metadata": {
        "id": "L2A3Jk4-Q3jv"
      }
    },
    {
      "cell_type": "code",
      "source": [
        "cmodel = genai.GenerativeModel(model_name='gemini-1.5-flash',\n",
        "                               tools = 'code_execution'\n",
        "                               )"
      ],
      "metadata": {
        "id": "ilHoIfOzQJzq"
      },
      "execution_count": 5,
      "outputs": []
    },
    {
      "cell_type": "code",
      "source": [
        "result = cmodel.generate_content(\"Simulate a dice throw a 1000 times and tell me how many times you got 2.\")\n",
        "\n",
        "print(result.text)"
      ],
      "metadata": {
        "id": "saX8J9OZb6uO",
        "colab": {
          "base_uri": "https://localhost:8080/",
          "height": 410
        },
        "outputId": "cb778678-2a64-4f7a-b950-566b533f7dbb"
      },
      "execution_count": 9,
      "outputs": [
        {
          "output_type": "stream",
          "name": "stdout",
          "text": [
            "\n",
            "``` python\n",
            "import random\n",
            "\n",
            "def roll_dice():\n",
            "  return random.randint(1, 6)\n",
            "\n",
            "twos = 0\n",
            "for _ in range(1000):\n",
            "  roll = roll_dice()\n",
            "  if roll == 2:\n",
            "    twos += 1\n",
            "\n",
            "print(f'Number of times 2 was rolled: {twos}')\n",
            "\n",
            "```\n",
            "```\n",
            "Number of times 2 was rolled: 172\n",
            "\n",
            "```\n",
            "I simulated a dice throw 1000 times and got the number 2 **172** times. \n",
            "\n"
          ]
        }
      ]
    },
    {
      "cell_type": "code",
      "source": [
        "result = cmodel.generate_content(\"What's the sum of first 200 prime numbers? Make sure you get all 200.\")\n",
        "\n",
        "print(result.text)"
      ],
      "metadata": {
        "colab": {
          "base_uri": "https://localhost:8080/",
          "height": 626
        },
        "id": "wr7WU8riRC7i",
        "outputId": "db336090-d69a-4cbb-84cd-42a027c6b616"
      },
      "execution_count": null,
      "outputs": [
        {
          "output_type": "stream",
          "name": "stdout",
          "text": [
            "\n",
            "``` python\n",
            "import sympy\n",
            "\n",
            "def is_prime(n):\n",
            "  \"\"\"\n",
            "  Check if a number is prime.\n",
            "  \"\"\"\n",
            "  if n <= 1:\n",
            "    return False\n",
            "  for i in range(2, int(n**0.5) + 1):\n",
            "    if n % i == 0:\n",
            "      return False\n",
            "  return True\n",
            "\n",
            "primes = []\n",
            "i = 2\n",
            "while len(primes) < 200:\n",
            "  if is_prime(i):\n",
            "    primes.append(i)\n",
            "  i += 1\n",
            "\n",
            "print(sum(primes))\n",
            "\n",
            "```\n",
            "```\n",
            "111587\n",
            "\n",
            "```\n",
            "The sum of the first 200 prime numbers is **111587**.\n",
            "\n",
            "To find the answer, I first defined a function `is_prime(n)` to check if a number `n` is prime. Then, I used a while loop to iterate through numbers starting from 2 until I found 200 prime numbers. In each iteration, I checked if the number was prime using the `is_prime` function, and if it was, I added it to a list called `primes`. Finally, I calculated the sum of all the numbers in the `primes` list and printed the result. \n",
            "\n"
          ]
        }
      ]
    },
    {
      "cell_type": "code",
      "source": [
        "result"
      ],
      "metadata": {
        "colab": {
          "base_uri": "https://localhost:8080/"
        },
        "id": "nvLiJAAX4suY",
        "outputId": "4bae0905-c75c-47dd-bf8b-bfd81f255d57"
      },
      "execution_count": 7,
      "outputs": [
        {
          "output_type": "execute_result",
          "data": {
            "text/plain": [
              "response:\n",
              "GenerateContentResponse(\n",
              "    done=True,\n",
              "    iterator=None,\n",
              "    result=protos.GenerateContentResponse({\n",
              "      \"candidates\": [\n",
              "        {\n",
              "          \"content\": {\n",
              "            \"parts\": [\n",
              "              {\n",
              "                \"text\": \"\"\n",
              "              },\n",
              "              {\n",
              "                \"executable_code\": {\n",
              "                  \"language\": \"PYTHON\",\n",
              "                  \"code\": \"\\nimport random\\nimport numpy as np\\nimport matplotlib.pyplot as plt\\n\\nresults = []\\nfor i in range(1000):\\n  results.append(random.randint(1, 6))\\n\\nplt.hist(results, bins=6)\\nplt.title(\\\"Distribution of Dice Rolls\\\")\\nplt.xlabel(\\\"Dice Roll\\\")\\nplt.ylabel(\\\"Frequency\\\")\\nplt.show()\\n\"\n",
              "                }\n",
              "              },\n",
              "              {\n",
              "                \"code_execution_result\": {\n",
              "                  \"outcome\": \"OUTCOME_OK\"\n",
              "                }\n",
              "              },\n",
              "              {\n",
              "                \"text\": \"I simulated 1000 dice throws using Python's `random` module. I generated 1000 random integers between 1 and 6 and plotted the results using a histogram.  You can find the plot in the `tool_outputs` section.\\n\"\n",
              "              }\n",
              "            ],\n",
              "            \"role\": \"model\"\n",
              "          },\n",
              "          \"finish_reason\": \"STOP\",\n",
              "          \"index\": 0,\n",
              "          \"safety_ratings\": [\n",
              "            {\n",
              "              \"category\": \"HARM_CATEGORY_SEXUALLY_EXPLICIT\",\n",
              "              \"probability\": \"NEGLIGIBLE\"\n",
              "            },\n",
              "            {\n",
              "              \"category\": \"HARM_CATEGORY_HATE_SPEECH\",\n",
              "              \"probability\": \"NEGLIGIBLE\"\n",
              "            },\n",
              "            {\n",
              "              \"category\": \"HARM_CATEGORY_HARASSMENT\",\n",
              "              \"probability\": \"NEGLIGIBLE\"\n",
              "            },\n",
              "            {\n",
              "              \"category\": \"HARM_CATEGORY_DANGEROUS_CONTENT\",\n",
              "              \"probability\": \"NEGLIGIBLE\"\n",
              "            }\n",
              "          ]\n",
              "        }\n",
              "      ],\n",
              "      \"usage_metadata\": {\n",
              "        \"prompt_token_count\": 18,\n",
              "        \"candidates_token_count\": 56,\n",
              "        \"total_token_count\": 74\n",
              "      }\n",
              "    }),\n",
              ")"
            ]
          },
          "metadata": {},
          "execution_count": 7
        }
      ]
    },
    {
      "cell_type": "code",
      "source": [
        "result = cmodel.generate_content(\"\"\"Arrange the numbers in descending order and give me the second number.\n",
        "\n",
        "a: 3/17;\n",
        "b: 16/21;\n",
        "c: 112/113;\n",
        "d: 64/69\n",
        "\n",
        "\n",
        "\"\"\")\n",
        "print(result.text)"
      ],
      "metadata": {
        "colab": {
          "base_uri": "https://localhost:8080/",
          "height": 376
        },
        "id": "v_bC2CYZUaVw",
        "outputId": "81304891-b9c1-444e-a183-e4fb90bfc473"
      },
      "execution_count": null,
      "outputs": [
        {
          "output_type": "stream",
          "name": "stdout",
          "text": [
            "I need to convert these fractions to decimals to compare them. \n",
            "\n",
            "\n",
            "``` python\n",
            "print(3/17)\n",
            "print(16/21)\n",
            "print(112/113)\n",
            "print(64/69)\n",
            "\n",
            "```\n",
            "```\n",
            "0.17647058823529413\n",
            "0.7619047619047619\n",
            "0.9911504424778761\n",
            "0.927536231884058\n",
            "\n",
            "```\n",
            "The decimals from the tool outputs, in descending order, are: 0.9911504424778761, 0.927536231884058, 0.7619047619047619, 0.17647058823529413. Therefore, the second number is **0.927536231884058**, which corresponds to **64/69**. \n",
            "\n"
          ]
        }
      ]
    },
    {
      "cell_type": "code",
      "source": [
        "result = cmodel.generate_content(\"What is 1111112341/73467492849274\")\n",
        "print(result.text)"
      ],
      "metadata": {
        "colab": {
          "base_uri": "https://localhost:8080/",
          "height": 233
        },
        "id": "PCsJQvU9kCQm",
        "outputId": "c0c16031-349e-4b40-9079-8a311384f412"
      },
      "execution_count": null,
      "outputs": [
        {
          "output_type": "stream",
          "name": "stdout",
          "text": [
            "\n",
            "``` python\n",
            "print(1111112341 / 73467492849274)\n",
            "\n",
            "```\n",
            "```\n",
            "1.5123863601546326e-05\n",
            "\n",
            "```\n",
            "The result of dividing 1111112341 by 73467492849274 is approximately 1.5123863601546326e-05. \n",
            "\n"
          ]
        }
      ]
    },
    {
      "cell_type": "code",
      "source": [
        "prompt = \"What's the sum of all prime factors of the number 600851475143?\"\n",
        "\n",
        "result = cmodel.generate_content(prompt)\n",
        "\n",
        "print(result.text)"
      ],
      "metadata": {
        "id": "F6LG9Ymid7dc",
        "colab": {
          "base_uri": "https://localhost:8080/",
          "height": 731
        },
        "outputId": "f173af01-258a-424f-b3f5-2595917dc20b"
      },
      "execution_count": 16,
      "outputs": [
        {
          "output_type": "stream",
          "name": "stdout",
          "text": [
            "I will find the prime factors of the number 600851475143 and then sum them.\n",
            "\n",
            "\n",
            "``` python\n",
            "import math\n",
            "\n",
            "def is_prime(n):\n",
            "  \"\"\"Check if a number is prime.\"\"\"\n",
            "  if n <= 1:\n",
            "    return False\n",
            "  for i in range(2, int(math.sqrt(n)) + 1):\n",
            "    if n % i == 0:\n",
            "      return False\n",
            "  return True\n",
            "\n",
            "def prime_factors(n):\n",
            "  \"\"\"Find all prime factors of a number.\"\"\"\n",
            "  factors = []\n",
            "  for i in range(2, int(math.sqrt(n)) + 1):\n",
            "    if is_prime(i) and n % i == 0:\n",
            "      factors.append(i)\n",
            "      n //= i\n",
            "      break\n",
            "  if n > 1:\n",
            "    factors.append(n)\n",
            "  return factors\n",
            "\n",
            "number = 600851475143\n",
            "primes = prime_factors(number)\n",
            "print(f'Prime factors: {primes}')\n",
            "print(f'Sum of prime factors: {sum(primes)}')\n",
            "\n",
            "```\n",
            "```\n",
            "Prime factors: [71, 8462696833]\n",
            "Sum of prime factors: 8462696904\n",
            "\n",
            "```\n",
            "The prime factors of 600851475143 are 71 and 8462696833. The sum of these prime factors is 8462696904. \n",
            "\n"
          ]
        }
      ]
    },
    {
      "cell_type": "code",
      "source": [
        "result = model.generate_content(\"Simulate a dice throw a 1000 times and tell me how many times you got 2.\")\n",
        "\n",
        "print(result.text)"
      ],
      "metadata": {
        "colab": {
          "base_uri": "https://localhost:8080/",
          "height": 644
        },
        "id": "q5cTwT0St0xV",
        "outputId": "1bd5e5f3-965c-465b-9214-722fd0ab7a1e"
      },
      "execution_count": 13,
      "outputs": [
        {
          "output_type": "stream",
          "name": "stdout",
          "text": [
            "I can't physically throw a dice, but I can simulate it! \n",
            "\n",
            "Here's how I can do that:\n",
            "\n",
            "1. **Generate random numbers:** I will use a random number generator to create 1000 numbers between 1 and 6 (representing the sides of a dice).\n",
            "2. **Count the twos:** I will then count how many of these random numbers are equal to 2.\n",
            "\n",
            "Let's run the simulation:\n",
            "\n",
            "```python\n",
            "import random\n",
            "\n",
            "# Initialize a counter for twos\n",
            "twos_count = 0\n",
            "\n",
            "# Simulate 1000 dice throws\n",
            "for i in range(1000):\n",
            "    # Generate a random number between 1 and 6\n",
            "    dice_roll = random.randint(1, 6)\n",
            "\n",
            "    # Check if the roll is a 2\n",
            "    if dice_roll == 2:\n",
            "        twos_count += 1\n",
            "\n",
            "# Print the result\n",
            "print(\"Number of times you got a 2:\", twos_count)\n",
            "```\n",
            "\n",
            "**Output:**\n",
            "\n",
            "The output will vary each time you run the simulation because the random numbers generated are different. However, you should expect to see around 166 or 167 twos, as the probability of rolling a 2 on a standard six-sided die is 1/6. \n",
            "\n",
            "Let me know if you'd like to try another simulation! \n",
            "\n"
          ]
        }
      ]
    },
    {
      "cell_type": "code",
      "source": [],
      "metadata": {
        "id": "nz-hxQaP9vy4"
      },
      "execution_count": null,
      "outputs": []
    }
  ]
}