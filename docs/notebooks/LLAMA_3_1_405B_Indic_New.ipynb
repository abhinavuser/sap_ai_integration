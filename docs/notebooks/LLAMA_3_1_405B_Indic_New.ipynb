{
  "nbformat": 4,
  "nbformat_minor": 0,
  "metadata": {
    "colab": {
      "provenance": []
    },
    "kernelspec": {
      "name": "python3",
      "display_name": "Python 3"
    },
    "language_info": {
      "name": "python"
    }
  },
  "cells": [
    {
      "cell_type": "markdown",
      "source": [
        "# LLAMA 3 405B for Indic Language Tasks\n",
        "\n",
        "[![Open In Colab](https://colab.research.google.com/assets/colab-badge.svg)](https://colab.research.google.com/drive/1aJSeW4dz4sZvdYMZS9KnsRI07L-pqnj0?usp=sharing)\n",
        "\n",
        "This notebook demonstrates the use of LLAMA 3 405B model for various tasks related to Indic languages, including essay generation, translation, and complex language tasks.\n",
        "\n",
        "## Setup\n",
        "\n",
        "First, let's set up the necessary libraries and model:\n",
        "\n",
        "To use this notebook, you'll need a Fireworks API key. You can obtain one from:\n",
        "[Fireworks API Key](https://fireworks.ai/account/api-keys)\n",
        "\n",
        "Make sure to add your API key to Colab's secrets before running the notebook."
      ],
      "metadata": {
        "id": "q2U1zCunCzSg"
      }
    },
    {
      "cell_type": "code",
      "source": [
        "!pip install langchain_openai langchain --quiet"
      ],
      "metadata": {
        "colab": {
          "base_uri": "https://localhost:8080/"
        },
        "id": "6TdgxBjNC4Ik",
        "outputId": "09ef2267-32fd-4151-b1a8-6ec9c5e296ba"
      },
      "execution_count": 4,
      "outputs": [
        {
          "output_type": "stream",
          "name": "stdout",
          "text": [
            "\u001b[2K     \u001b[90m━━━━━━━━━━━━━━━━━━━━━━━━━━━━━━━━━━━━━━━━\u001b[0m \u001b[32m990.3/990.3 kB\u001b[0m \u001b[31m5.4 MB/s\u001b[0m eta \u001b[36m0:00:00\u001b[0m\n",
            "\u001b[?25h"
          ]
        }
      ]
    },
    {
      "cell_type": "code",
      "execution_count": 5,
      "metadata": {
        "colab": {
          "base_uri": "https://localhost:8080/"
        },
        "id": "0T4VrjCuCrt1",
        "outputId": "975b3000-b83a-4391-8d2c-e29a721cbfd7"
      },
      "outputs": [
        {
          "output_type": "stream",
          "name": "stdout",
          "text": [
            "Model initialized successfully!\n"
          ]
        }
      ],
      "source": [
        "from langchain_openai import ChatOpenAI\n",
        "from google.colab import userdata\n",
        "from langchain.prompts import PromptTemplate\n",
        "from langchain.chains import LLMChain\n",
        "\n",
        "# Initialize the LLAMA 3 405B model\n",
        "llama3_405b = ChatOpenAI(\n",
        "    model=\"accounts/fireworks/models/llama-v3p1-405b-instruct\",\n",
        "    openai_api_key=userdata.get(\"FIREWORKS_API_KEY\"),\n",
        "    openai_api_base=\"https://api.fireworks.ai/inference/v1\"\n",
        ")\n",
        "\n",
        "print(\"Model initialized successfully!\")"
      ]
    },
    {
      "cell_type": "markdown",
      "source": [
        "#Essay Generation in Indic Languages\n",
        "Let's create a function to generate essays in various Indic languages:"
      ],
      "metadata": {
        "id": "d53rdaCcC_Wi"
      }
    },
    {
      "cell_type": "code",
      "source": [
        "def generate_essay(topic, language, word_count):\n",
        "    prompt = PromptTemplate(\n",
        "        input_variables=[\"topic\", \"language\", \"word_count\"],\n",
        "        template=\"Write an essay in {language} on the topic '{topic}'. The essay should be approximately {word_count} words long. Provide a well-structured essay with an introduction, body paragraphs, and a conclusion.\"\n",
        "    )\n",
        "\n",
        "    chain = LLMChain(llm=llama3_405b, prompt=prompt)\n",
        "\n",
        "    response = chain.run(topic=topic, language=language, word_count=word_count)\n",
        "    return response\n",
        "\n",
        "# Example usage\n",
        "topic = \"The Importance of Education in modern India\"\n",
        "language = \"Hindi\"\n",
        "word_count = 350\n",
        "\n",
        "essay = generate_essay(topic, language, word_count)\n",
        "print(essay)"
      ],
      "metadata": {
        "colab": {
          "base_uri": "https://localhost:8080/"
        },
        "id": "KNRC_zDFC_Fm",
        "outputId": "e4f32b64-cd1a-4483-8405-ae1dc5598c2a"
      },
      "execution_count": 10,
      "outputs": [
        {
          "output_type": "stream",
          "name": "stdout",
          "text": [
            "**आधुनिक भारत में शिक्षा का महत्व**\n",
            "\n",
            "आज के आधुनिक भारत में, शिक्षा का महत्व और भी बढ़ गया है। शिक्षा न केवल व्यक्तिगत विकास के लिए आवश्यक है, बल्कि यह समाज के विकास के लिए भी उतनी ही आवश्यक है। शिक्षा के माध्यम से ही हम अपने देश को विकसित और समृद्ध बना सकते हैं।\n",
            "\n",
            "शिक्षा के महत्व को समझने के लिए हमें पहले यह जानना होगा कि शिक्षा क्या है। शिक्षा केवल किताबी ज्ञान प्राप्त करना नहीं है, बल्कि यह व्यक्तित्व का विकास करना भी है। शिक्षा के माध्यम से हम अपने मस्तिष्क को विकसित करते हैं, अपनी सोच को विकसित करते हैं, और अपने व्यक्तित्व को मजबूत बनाते हैं।\n",
            "\n",
            "आधुनिक भारत में, शिक्षा का महत्व और भी बढ़ गया है क्योंकि हमारा देश तेजी से विकसित हो रहा है। हमारे देश को विकसित करने के लिए हमें शिक्षित और कुशल नागरिकों की आवश्यकता है। शिक्षा के माध्यम से हम अपने देश को विकसित करने के लिए आवश्यक कुशल और ज्ञानी नागरिकों को तैयार कर सकते हैं।\n",
            "\n",
            "इसके अलावा, शिक्षा हमें अपने जीवन को बेहतर बनाने में मदद करती है। शिक्षा के माध्यम से हम अपने जीवन को सुधार सकते हैं, अपने परिवार को सुधार सकते हैं, और अपने समाज को सुधार सकते हैं। शिक्षा हमें अपने लक्ष्यों को प्राप्त करने में मदद करती है और हमें अपने सपनों को सच बनाने में मदद करती है।\n",
            "\n",
            "निष्कर्ष रूप से, आधुनिक भारत में शिक्षा का महत्व बहुत अधिक है। शिक्षा हमें अपने व्यक्तिगत विकास के लिए आवश्यक है, हमें अपने देश को विकसित करने के लिए आवश्यक है, और हमें अपने जीवन को बेहतर बनाने में मदद करती है। इसलिए, हमें शिक्षा को बहुत अधिक महत्व देना चाहिए और हमें अपने बच्चों को अच्छी शिक्षा प्रदान करनी चाहिए।\n"
          ]
        }
      ]
    },
    {
      "cell_type": "markdown",
      "source": [
        "#Translation between English and Indic Languages\n",
        "Now, let's create a function for translation:"
      ],
      "metadata": {
        "id": "nUfLQla7DDgj"
      }
    },
    {
      "cell_type": "code",
      "source": [
        "def translate_text(text, source_lang, target_lang):\n",
        "    prompt = PromptTemplate(\n",
        "        input_variables=[\"text\", \"source_lang\", \"target_lang\"],\n",
        "        template=\"Translate the following {source_lang} text to {target_lang}:\\n\\n{text}\\n\\nTranslation:\"\n",
        "    )\n",
        "\n",
        "    chain = LLMChain(llm=llama3_405b, prompt=prompt)\n",
        "\n",
        "    response = chain.run(text=text, source_lang=source_lang, target_lang=target_lang)\n",
        "    return response\n",
        "\n",
        "# Example usage\n",
        "english_text = \"Artificial intelligence is transforming the world in unprecedented ways.\"\n",
        "target_lang = \"Bengali\"\n",
        "\n",
        "translation = translate_text(english_text, \"English\", target_lang)\n",
        "print(f\"Original: {english_text}\")\n",
        "print(f\"Translation ({target_lang}): {translation}\")"
      ],
      "metadata": {
        "colab": {
          "base_uri": "https://localhost:8080/"
        },
        "id": "RrZoQKxADDW0",
        "outputId": "c9e6d954-6751-4d5b-e69d-159835c35143"
      },
      "execution_count": 7,
      "outputs": [
        {
          "output_type": "stream",
          "name": "stdout",
          "text": [
            "Original: Artificial intelligence is transforming the world in unprecedented ways.\n",
            "Translation (Bengali): কৃত্রিম বুদ্ধিমত্তা বিশ্বকে অভূতপূর্ব উপায়ে রূপান্তরিত করছে।\n"
          ]
        }
      ]
    },
    {
      "cell_type": "markdown",
      "source": [
        "#Complex Language Tasks\n",
        "Named Entity Recognition (NER) in Indic Languages\n",
        "\n",
        "\n",
        "Let's create a function to perform Named Entity Recognition:"
      ],
      "metadata": {
        "id": "O9PxpekDDKlr"
      }
    },
    {
      "cell_type": "code",
      "source": [
        "def perform_ner(text, language):\n",
        "    prompt = PromptTemplate(\n",
        "        input_variables=[\"text\", \"language\"],\n",
        "        template=\"Perform Named Entity Recognition on the following {language} text. Identify and list all person names, locations, and organizations:\\n\\n{text}\\n\\nEntities:\"\n",
        "    )\n",
        "\n",
        "    chain = LLMChain(llm=llama3_405b, prompt=prompt)\n",
        "\n",
        "    response = chain.run(text=text, language=language)\n",
        "    return response\n",
        "\n",
        "# Example usage\n",
        "hindi_text = \"नरेंद्र मोदी ने नई दिल्ली में भारतीय जनता पार्टी की बैठक में भाग लिया।\"\n",
        "ner_results = perform_ner(hindi_text, \"Hindi\")\n",
        "print(f\"Text: {hindi_text}\")\n",
        "print(f\"NER Results:\\n{ner_results}\")"
      ],
      "metadata": {
        "colab": {
          "base_uri": "https://localhost:8080/"
        },
        "id": "hV_mV91IDG6p",
        "outputId": "25241b13-c49e-4f5b-f1c3-aba4a1091219"
      },
      "execution_count": 8,
      "outputs": [
        {
          "output_type": "stream",
          "name": "stdout",
          "text": [
            "Text: नरेंद्र मोदी ने नई दिल्ली में भारतीय जनता पार्टी की बैठक में भाग लिया।\n",
            "NER Results:\n",
            "Here are the entities extracted from the given Hindi text:\n",
            "\n",
            "**Person Names:**\n",
            "\n",
            "1. नरेंद्र मोदी (Narendra Modi)\n",
            "\n",
            "**Locations:**\n",
            "\n",
            "1. नई दिल्ली (New Delhi)\n",
            "2. भारत (India) ( implicit, mentioned as part of the organization name \"भारतीय जनता पार्टी\" )\n",
            "\n",
            "**Organizations:**\n",
            "\n",
            "1. भारतीय जनता पार्टी (Bharatiya Janata Party)\n"
          ]
        }
      ]
    },
    {
      "cell_type": "markdown",
      "source": [
        "# Sentiment Analysis in Indic Languages\n",
        "Finally, let's create a function for sentiment analysis:"
      ],
      "metadata": {
        "id": "4sIOaGRnDSqu"
      }
    },
    {
      "cell_type": "code",
      "source": [
        "def analyze_sentiment(text, language):\n",
        "    prompt = PromptTemplate(\n",
        "        input_variables=[\"text\", \"language\"],\n",
        "        template=\"Perform sentiment analysis on the following {language} text. Classify the sentiment as positive, negative, or neutral, and provide a brief explanation:\\n\\n{text}\\n\\nSentiment Analysis:\"\n",
        "    )\n",
        "\n",
        "    chain = LLMChain(llm=llama3_405b, prompt=prompt)\n",
        "\n",
        "    response = chain.run(text=text, language=language)\n",
        "    return response\n",
        "\n",
        "# Example usage\n",
        "tamil_text = \"இந்த திரைப்படம் மிகவும் அருமையாக இருந்தது. நடிப்பும் இசையும் சிறப்பாக இருந்தன.\"\n",
        "sentiment_results = analyze_sentiment(tamil_text, \"Tamil\")\n",
        "print(f\"Text: {tamil_text}\")\n",
        "print(f\"Sentiment Analysis:\\n{sentiment_results}\")"
      ],
      "metadata": {
        "colab": {
          "base_uri": "https://localhost:8080/"
        },
        "id": "_CRbaq8DDUFG",
        "outputId": "42c5d81d-3fc8-4bce-bc03-9a53c46d46fd"
      },
      "execution_count": 9,
      "outputs": [
        {
          "output_type": "stream",
          "name": "stdout",
          "text": [
            "Text: இந்த திரைப்படம் மிகவும் அருமையாக இருந்தது. நடிப்பும் இசையும் சிறப்பாக இருந்தன.\n",
            "Sentiment Analysis:\n",
            "Sentiment Analysis:\n",
            "\n",
            "The sentiment of the given Tamil text is: **Positive**\n",
            "\n",
            "Explanation:\n",
            "The text uses positive adjectives such as \"அருமையாக\" (arumaiyaga, meaning \"wonderful\") and \"சிறப்பாக\" (sirappaga, meaning \"excellent\") to describe the movie, acting, and music. The overall tone of the text is appreciative and suggests that the speaker enjoyed the movie.\n"
          ]
        }
      ]
    },
    {
      "cell_type": "code",
      "source": [],
      "metadata": {
        "id": "k0NznBcMEOnN"
      },
      "execution_count": null,
      "outputs": []
    }
  ]
}